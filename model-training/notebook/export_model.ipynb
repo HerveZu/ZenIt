{
 "cells": [
  {
   "cell_type": "code",
   "id": "initial_id",
   "metadata": {
    "collapsed": true,
    "ExecuteTime": {
     "end_time": "2024-10-28T18:49:47.598876Z",
     "start_time": "2024-10-28T18:49:47.596267Z"
    }
   },
   "source": [
    "import ultralytics\n",
    "import config"
   ],
   "outputs": [],
   "execution_count": 2
  },
  {
   "metadata": {},
   "cell_type": "code",
   "source": "ultralytics.checks()",
   "id": "753aeb989ea99eb2",
   "execution_count": 3,
   "outputs": [
    {
     "name": "stdout",
     "output_type": "stream",
     "text": [
      "Ultralytics 8.3.23 🚀 Python-3.9.6 torch-2.5.0 CPU (Apple M3 Pro)\n",
      "Setup complete ✅ (11 CPUs, 18.0 GB RAM, 158.1/460.4 GB disk)\n"
     ]
    }
   ]
  },
  {
   "metadata": {
    "ExecuteTime": {
     "end_time": "2024-10-28T18:49:53.147855Z",
     "start_time": "2024-10-28T18:49:53.076233Z"
    }
   },
   "cell_type": "code",
   "source": "model = ultralytics.YOLO(config.MODEL_PATH)\n",
   "id": "93a7c542c2d0bf34",
   "outputs": [],
   "execution_count": 4
  },
  {
   "metadata": {
    "ExecuteTime": {
     "end_time": "2024-10-28T18:49:57.805477Z",
     "start_time": "2024-10-28T18:49:54.031250Z"
    }
   },
   "cell_type": "code",
   "source": "model.export(format='onnx', nms=True)",
   "id": "d3befd8d115feb54",
   "outputs": [
    {
     "name": "stdout",
     "output_type": "stream",
     "text": [
      "Ultralytics 8.3.23 🚀 Python-3.9.6 torch-2.5.0 CPU (Apple M3 Pro)\n",
      "YOLOv9c summary (fused): 384 layers, 25,329,271 parameters, 0 gradients, 102.4 GFLOPs\n",
      "\n",
      "\u001B[34m\u001B[1mPyTorch:\u001B[0m starting from '/Users/herve/Dev/ZenIt/model-training/notebook/../model/yolov8/weights/best.pt' with input shape (1, 3, 1024, 1024) BCHW and output shape(s) (1, 17, 21504) (49.3 MB)\n",
      "\n",
      "\u001B[34m\u001B[1mONNX:\u001B[0m starting export with onnx 1.17.0 opset 19...\n",
      "\u001B[34m\u001B[1mONNX:\u001B[0m slimming with onnxslim 0.1.36...\n",
      "\u001B[34m\u001B[1mONNX:\u001B[0m export success ✅ 2.1s, saved as '/Users/herve/Dev/ZenIt/model-training/notebook/../model/yolov8/weights/best.onnx' (97.2 MB)\n",
      "\n",
      "Export complete (3.8s)\n",
      "Results saved to \u001B[1m/Users/herve/Dev/ZenIt/model-training/model/yolov8/weights\u001B[0m\n",
      "Predict:         yolo predict task=detect model=/Users/herve/Dev/ZenIt/model-training/notebook/../model/yolov8/weights/best.onnx imgsz=1024  \n",
      "Validate:        yolo val task=detect model=/Users/herve/Dev/ZenIt/model-training/notebook/../model/yolov8/weights/best.onnx imgsz=1024 data=data.yaml  \n",
      "Visualize:       https://netron.app\n"
     ]
    },
    {
     "data": {
      "text/plain": [
       "'/Users/herve/Dev/ZenIt/model-training/notebook/../model/yolov8/weights/best.onnx'"
      ]
     },
     "execution_count": 5,
     "metadata": {},
     "output_type": "execute_result"
    }
   ],
   "execution_count": 5
  }
 ],
 "metadata": {
  "kernelspec": {
   "display_name": "Python 3",
   "language": "python",
   "name": "python3"
  },
  "language_info": {
   "codemirror_mode": {
    "name": "ipython",
    "version": 2
   },
   "file_extension": ".py",
   "mimetype": "text/x-python",
   "name": "python",
   "nbconvert_exporter": "python",
   "pygments_lexer": "ipython2",
   "version": "2.7.6"
  }
 },
 "nbformat": 4,
 "nbformat_minor": 5
}
