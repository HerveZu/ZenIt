{
 "cells": [
  {
   "cell_type": "code",
   "id": "initial_id",
   "metadata": {
    "collapsed": true
   },
   "source": [
    "import ultralytics\n",
    "import config"
   ],
   "outputs": [],
   "execution_count": null
  },
  {
   "cell_type": "code",
   "source": [
    "ultralytics.checks()"
   ],
   "metadata": {
    "collapsed": false
   },
   "id": "ae9b404954ddfc84",
   "outputs": [],
   "execution_count": null
  },
  {
   "cell_type": "code",
   "source": "model = ultralytics.YOLO(config.MODEL_PATH)",
   "metadata": {
    "collapsed": false
   },
   "id": "b038d504f002131",
   "outputs": [],
   "execution_count": null
  },
  {
   "cell_type": "code",
   "source": [
    "results = model.train(\n",
    "    data=config.DATA_RECONFIG_PATH,\n",
    "    imgsz=1024,\n",
    "    epochs=100,\n",
    "    cache=True,\n",
    "    name='yolov8',\n",
    "    scale=0.1, \n",
    "    augment=True,\n",
    "    perspective=0.0001,\n",
    "    optimizer='Adam'\n",
    ")"
   ],
   "metadata": {
    "collapsed": false
   },
   "id": "e75f1c7027e70197",
   "outputs": [],
   "execution_count": null
  }
 ],
 "metadata": {
  "kernelspec": {
   "display_name": "Python 3",
   "language": "python",
   "name": "python3"
  },
  "language_info": {
   "codemirror_mode": {
    "name": "ipython",
    "version": 2
   },
   "file_extension": ".py",
   "mimetype": "text/x-python",
   "name": "python",
   "nbconvert_exporter": "python",
   "pygments_lexer": "ipython2",
   "version": "2.7.6"
  }
 },
 "nbformat": 4,
 "nbformat_minor": 5
}
